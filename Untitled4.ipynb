{
  "nbformat": 4,
  "nbformat_minor": 0,
  "metadata": {
    "colab": {
      "name": "Untitled4.ipynb",
      "provenance": [],
      "authorship_tag": "ABX9TyOh+UhOUG/IbPwksslJf7jb",
      "include_colab_link": true
    },
    "kernelspec": {
      "name": "python3",
      "display_name": "Python 3"
    },
    "language_info": {
      "name": "python"
    }
  },
  "cells": [
    {
      "cell_type": "markdown",
      "metadata": {
        "id": "view-in-github",
        "colab_type": "text"
      },
      "source": [
        "<a href=\"https://colab.research.google.com/github/YUSMITAAA/YUSMITAAA/blob/main/Untitled4.ipynb\" target=\"_parent\"><img src=\"https://colab.research.google.com/assets/colab-badge.svg\" alt=\"Open In Colab\"/></a>"
      ]
    },
    {
      "cell_type": "code",
      "execution_count": null,
      "metadata": {
        "id": "VWePX4ksmNBW",
        "colab": {
          "base_uri": "https://localhost:8080/"
        },
        "outputId": "388b4c3a-d4ea-4115-8cf6-7b65f8ed4635"
      },
      "outputs": [
        {
          "output_type": "stream",
          "name": "stdout",
          "text": [
            "<class 'str'>\n",
            "<class 'int'>\n",
            "<class 'tuple'>\n",
            "<class 'bool'>\n"
          ]
        }
      ],
      "source": [
        "#variabel\n",
        "nama = \"yusmita\"\n",
        "umur = 18\n",
        "tinggi = 1,45\n",
        "menikah =False\n",
        "\n",
        "print(type(\"yusmita\"))\n",
        "print(type(18))\n",
        "print(type(tinggi))\n",
        "print(type(menikah))"
      ]
    },
    {
      "cell_type": "code",
      "source": [
        "#operator aritmatika\n",
        "nilai1 = 8\n",
        "nilai2 = 2\n",
        "#penjumlahan\n",
        "print(nilai1 + nilai2)\n",
        "#pengurangan\n",
        "print(nilai1 - nilai2)\n",
        "#perkalian\n",
        "print(nilai1 * nilai2)\n",
        "#pembagian\n",
        "print(nilai1 / nilai2)\n",
        "#sisa bagi\n",
        "print(nilai1 % nilai2)\n",
        "#pangkat\n",
        "print(nilai1 ** nilai2)\n",
        "#pembagian bulat\n",
        "print(nilai1 // nilai2)"
      ],
      "metadata": {
        "id": "OaA4e_wxnJWU",
        "colab": {
          "base_uri": "https://localhost:8080/"
        },
        "outputId": "de4d7d11-4c8b-4316-eac9-11a5d913914b"
      },
      "execution_count": null,
      "outputs": [
        {
          "output_type": "stream",
          "name": "stdout",
          "text": [
            "10\n",
            "6\n",
            "16\n",
            "4.0\n",
            "0\n",
            "64\n",
            "4\n"
          ]
        }
      ]
    },
    {
      "cell_type": "code",
      "source": [
        "#tantangan\n",
        "nama = \"yusmita\"\n",
        "nim = \"D0221326\"\n",
        "gaji_pokok = 1000000\n",
        "gaji_lembur_per_jam = 5000\n",
        "lama_lembur = 11\n",
        "pajak = 10/100\n",
        "total_gaji_lembur = gaji_lembur_per_jam * lama_lembur\n",
        "total_pajak1 = gaji_pokok*pajak\n",
        "total_pajak2 = total_gaji_lembur*pajak\n",
        "gaji_kotor = gaji_pokok - total_pajak1\n",
        "gaji_kotor2 = total_gaji_lembur - total_pajak2\n",
        "gaji_bersih = gaji_kotor+ gaji_kotor2\n",
        "\n",
        "print(\"nama\\t:\", nama, nim)\n",
        "print(\"gaji pokok : \",gaji_pokok)\n",
        "print(\"total pajak gaji bersih : \",total_pajak1)\n",
        "print(\"total pajak gaji lembur : \",total_pajak2)\n",
        "print(\"total gaji kotor :\",gaji_kotor)\n",
        "print(\"total gaji lembur :\",total_gaji_lembur)\n",
        "print(\"gaji bersih adalah :\",gaji_bersih)"
      ],
      "metadata": {
        "id": "CBeoNjsHnNTz"
      },
      "execution_count": null,
      "outputs": []
    },
    {
      "cell_type": "code",
      "source": [
        "#operator penugasan\n",
        "nilai = 10\n",
        "nilai2 = 5\n",
        "nilai += 2 #(nilai += 10) sama dengan (nilai = nilai + 2)\n",
        "nilai =+ 2 # nilai2 =+ 10 sama dengan nilai2 = 3\n",
        "print(nilai)\n",
        "print(nilai2)\n",
        "nilai -= 1\n",
        "print(nilai)\n",
        "nilai *= 2\n",
        "print(nilai)\n",
        "nilai /= 3\n",
        "print(nilai)\n",
        "nilai %= 2\n",
        "print(nilai)\n",
        "nilai **= 2\n",
        "print(nilai)\n",
        "nilai //= 2\n",
        "print(nilai)"
      ],
      "metadata": {
        "colab": {
          "base_uri": "https://localhost:8080/"
        },
        "id": "6uWVaBc7nTl5",
        "outputId": "6fcad3f8-4332-4649-ab67-1df369e5e546"
      },
      "execution_count": null,
      "outputs": [
        {
          "output_type": "stream",
          "name": "stdout",
          "text": [
            "2\n",
            "5\n",
            "1\n",
            "2\n",
            "0.6666666666666666\n",
            "0.6666666666666666\n",
            "0.4444444444444444\n",
            "0.0\n"
          ]
        }
      ]
    },
    {
      "cell_type": "code",
      "source": [
        "#percabangan if\n",
        "nilai = 100\n",
        "if (nilai >= 10) :\n",
        "   print(\"nilai\")"
      ],
      "metadata": {
        "colab": {
          "base_uri": "https://localhost:8080/"
        },
        "id": "e4pAfGuUnXO6",
        "outputId": "d803706f-9d32-4ded-8549-2fe6b18b3df9"
      },
      "execution_count": null,
      "outputs": [
        {
          "output_type": "stream",
          "name": "stdout",
          "text": [
            "nilai\n"
          ]
        }
      ]
    },
    {
      "cell_type": "code",
      "source": [
        "#percabangan if else\n",
        "nilai = 50\n",
        "if (nilai >= 30) :\n",
        "   print(\"lulus\")\n",
        "else:\n",
        "   print(\"tidak lulus\")"
      ],
      "metadata": {
        "colab": {
          "base_uri": "https://localhost:8080/"
        },
        "id": "KOEwPHdinZ5x",
        "outputId": "b119373a-ab32-4468-9798-2b67f794f876"
      },
      "execution_count": null,
      "outputs": [
        {
          "output_type": "stream",
          "name": "stdout",
          "text": [
            "lulus\n"
          ]
        }
      ]
    },
    {
      "cell_type": "code",
      "source": [
        "#percabangan elif\n",
        "umur = 20\n",
        "if(umur > 18 and umur < 30) :\n",
        "     print(\"sudah beranjak dewasa\")\n",
        "elif(umur >= 30 and umur < 45) :\n",
        "     print(\"masa masa emas\")\n",
        "elif(umur >= 45 and umur < 55) :\n",
        "     print(\"masa paruh baya\")\n",
        "elif(umur >= 55) :\n",
        "     print(\"masa manula\")\n",
        "else:\n",
        "     print(\"masih dibawah umur\")"
      ],
      "metadata": {
        "colab": {
          "base_uri": "https://localhost:8080/"
        },
        "id": "N3spgvqanh6g",
        "outputId": "969351a3-118e-4992-d312-aedb3b2eb011"
      },
      "execution_count": null,
      "outputs": [
        {
          "output_type": "stream",
          "name": "stdout",
          "text": [
            "sudah beranjak dewasa\n"
          ]
        }
      ]
    }
  ]
}