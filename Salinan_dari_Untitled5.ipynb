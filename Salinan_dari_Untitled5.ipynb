{
  "nbformat": 4,
  "nbformat_minor": 0,
  "metadata": {
    "colab": {
      "name": "Salinan dari Untitled5.ipynb",
      "provenance": [],
      "collapsed_sections": [],
      "toc_visible": true,
      "authorship_tag": "ABX9TyNaHzYmqCxcXIsfezIIG/e7",
      "include_colab_link": true
    },
    "kernelspec": {
      "name": "python3",
      "display_name": "Python 3"
    },
    "language_info": {
      "name": "python"
    }
  },
  "cells": [
    {
      "cell_type": "markdown",
      "metadata": {
        "id": "view-in-github",
        "colab_type": "text"
      },
      "source": [
        "<a href=\"https://colab.research.google.com/github/YUSMITAAA/YUSMITAAA/blob/main/Salinan_dari_Untitled5.ipynb\" target=\"_parent\"><img src=\"https://colab.research.google.com/assets/colab-badge.svg\" alt=\"Open In Colab\"/></a>"
      ]
    },
    {
      "cell_type": "code",
      "source": [
        "#membuat list dan mengisi value/nilai\n",
        "ListBilangan = [1, 2, 3, 4, 5]\n",
        "\n",
        "#menampilkan list menggunakan perulangan\n",
        "for L in ListBilangan:\n",
        "    print(L)\n",
        "L = 0\n",
        "while L <len(ListBilangan):\n",
        "    print(ListBilangan[L]) \n",
        "    L += 1\n",
        "\n",
        "#mengupdate salah satu value/nilai\n",
        "ListBilangan[2] = 10\n",
        "print(ListBilangan)\n",
        "\n",
        "#menghapus salah satu value/nilai\n",
        "ListBilangan.remove(ListBilangan[3])\n",
        "print(ListBilangan)\n",
        "\n",
        "#menambahkan salah satu value/nilai\n",
        "ListBilangan.append(4)\n",
        "print(ListBilangan)"
      ],
      "metadata": {
        "id": "uPnAhmQDmcVO",
        "colab": {
          "base_uri": "https://localhost:8080/"
        },
        "outputId": "3e760f58-2685-40c4-f565-f05b148bcf57"
      },
      "execution_count": null,
      "outputs": [
        {
          "output_type": "stream",
          "name": "stdout",
          "text": [
            "1\n",
            "2\n",
            "3\n",
            "4\n",
            "5\n",
            "1\n",
            "2\n",
            "3\n",
            "4\n",
            "5\n",
            "[1, 2, 10, 4, 5]\n",
            "[1, 2, 10, 5]\n",
            "[1, 2, 10, 5, 4]\n"
          ]
        }
      ]
    },
    {
      "cell_type": "code",
      "source": [
        "\n",
        "#membuat Tuple dan mengisi value/nilai\n",
        "TupleBilangan = (1, 2, 3, 4, 5)\n",
        "\n",
        "#menampilkan tuple menggunakan perulangan\n",
        "for T in TupleBilangan:\n",
        "    print(T)\n",
        "T = 0\n",
        "while T <len(TupleBilangan):\n",
        "      print(TupleBilangan[T])\n",
        "      T += 1\n",
        "#mengupdate salah satu value/nilai\n",
        "TupleBilangan[2] = 10\n",
        "print(TupleBilangan)\n",
        "\n",
        "#menghapus salah satu value/nilai\n",
        "TupleBilangan.remove(TupleBilangan[3])\n",
        "print(TupleBilangan)\n",
        "\n",
        "#menambah salah satu value/nilai\n",
        "TupleBilangan.append(4)\n",
        "print(TupleBilangan)"
      ],
      "metadata": {
        "id": "uYU4QUxg6NLN"
      },
      "execution_count": null,
      "outputs": []
    },
    {
      "cell_type": "code",
      "source": [
        "\n",
        "#membuat set dan mengisi value/nilai\n",
        "iniset = {\"baju\" , \"celana\" , \"sepatu\" , \"tas\"}\n",
        "\n",
        "#menampilkat set menggunakan perulangan\n",
        "for i in iniset:\n",
        "    print(i)\n",
        "i = 0\n",
        "while i <len(iniset):\n",
        "      print(iniset[i])\n",
        "      i += 1\n",
        "#mengupdate salah satu value/nilai\n",
        "iniset[\"baju\"] = sendal\n",
        "print(iniset)\n",
        "\n",
        "#menghapus salah satu value/nilai\n",
        "iniset.remove(iniset[\"baju\"])\n",
        "print(iniset)\n",
        "\n",
        "#menambahkan salah satu value/nilai\n",
        "iniset.append(jaket)\n",
        "print(iniset)"
      ],
      "metadata": {
        "id": "02nXLTolt9_S"
      },
      "execution_count": null,
      "outputs": []
    },
    {
      "cell_type": "code",
      "source": [
        "\n",
        "#membuat dictionary dan mengisi value/nilai\n",
        "iniDictionary = {\n",
        "    \"nama\" : \"mita\",\n",
        "    \"umur\" : 18,\n",
        "    \"alamat\" : \"mamasa\",\n",
        "    \"kuliah\" : True,\n",
        "    \"Hobi\" : [\"memasak\" , \"membaca\"]\n",
        "}\n",
        "#menampilkan dictionary menggunakan perulangan\n",
        "for D,V in iniDictionary.items():\n",
        "    print(D,V)\n",
        "\n",
        "#mengupdate salah satu key:value/nilai\n",
        "iniDictionary[\"nama\"] = \"Yusmita\"\n",
        "print(iniDictionary)\n",
        "\n",
        "#menghapus salah satu key:value/nilai\n",
        "iniDictionary.pop(\"kuliah\")\n",
        "print(iniDictionary)\n",
        "\n",
        "#menambahkan salah satu key:value/nilai\n",
        "iniDictionary[\"kuliah\"] = True\n",
        "print(iniDictionary)"
      ],
      "metadata": {
        "colab": {
          "base_uri": "https://localhost:8080/"
        },
        "id": "xaaVLIZRxqKE",
        "outputId": "9085b699-acff-4593-fcb2-7c9e568c0948"
      },
      "execution_count": null,
      "outputs": [
        {
          "output_type": "stream",
          "name": "stdout",
          "text": [
            "nama mita\n",
            "umur 18\n",
            "alamat mamasa\n",
            "kuliah True\n",
            "Hobi ['memasak', 'membaca']\n",
            "{'nama': 'Yusmita', 'umur': 18, 'alamat': 'mamasa', 'kuliah': True, 'Hobi': ['memasak', 'membaca']}\n",
            "{'nama': 'Yusmita', 'umur': 18, 'alamat': 'mamasa', 'Hobi': ['memasak', 'membaca']}\n",
            "{'nama': 'Yusmita', 'umur': 18, 'alamat': 'mamasa', 'Hobi': ['memasak', 'membaca'], 'kuliah': True}\n"
          ]
        }
      ]
    }
  ]
}