{
  "nbformat": 4,
  "nbformat_minor": 0,
  "metadata": {
    "colab": {
      "name": "Salinan dari Untitled6.ipynb",
      "provenance": [],
      "authorship_tag": "ABX9TyP9blCXSz8UlvhvBzbbbfHt",
      "include_colab_link": true
    },
    "kernelspec": {
      "name": "python3",
      "display_name": "Python 3"
    },
    "language_info": {
      "name": "python"
    }
  },
  "cells": [
    {
      "cell_type": "markdown",
      "metadata": {
        "id": "view-in-github",
        "colab_type": "text"
      },
      "source": [
        "<a href=\"https://colab.research.google.com/github/YUSMITAAA/YUSMITAAA/blob/main/Salinan_dari_Untitled6.ipynb\" target=\"_parent\"><img src=\"https://colab.research.google.com/assets/colab-badge.svg\" alt=\"Open In Colab\"/></a>"
      ]
    },
    {
      "cell_type": "code",
      "execution_count": null,
      "metadata": {
        "id": "QoThB5j1lVMS"
      },
      "outputs": [],
      "source": [
        "barang = []\n",
        "perintah = 0\n",
        "while perintah != 7:\n",
        "  print('''1. menambah\n",
        "2.menghapus\n",
        "3.mengedit\n",
        "4.menampilkan\n",
        "5.cari barang\n",
        "6.cari index\n",
        "7.keluar''')\n",
        "  perintah = int(input(\"masukkan perintah: \"))\n",
        "\n",
        "  if perintah == 1:\n",
        "    while True:\n",
        "      elemen = input(\"masukkan barang: \")\n",
        "      barang.append(elemen)\n",
        "      stop = input(\"ketik Ya untuk berhenti, selain itu lanjut: \").lower()\n",
        "      if stop == \"y\":\n",
        "        break\n",
        "  elif perintah == 2:\n",
        "    while True:\n",
        "      hapus = int(input(\"masukkan index yang akan di hapus: \"))\n",
        "      barang.pop(hapus)\n",
        "      stop = input(\"ketik Ya untuk berhenti, selain itu lanjut: \").lower()     \n",
        "      if stop == \"y\":                                            \n",
        "        break\n",
        "\n",
        "  elif perintah == 3:\n",
        "    while True:\n",
        "      edit = int(input(\"masukkan index yang akan di edit: \"))\n",
        " \n",
        "      if edit > (len(barang) - 1):\n",
        "        print(\"index tidak ditemukan\")\n",
        "      else:\n",
        "        barang[edit] = input(\"masukkan barang yang baru: \")\n",
        "      stop = input(\"ketik Ya untuk berhenti, selain itu lanjut: \").lower()     \n",
        "      if stop == \"y\":                    \n",
        "        break\n",
        "\n",
        "  elif perintah == 4:\n",
        "    for i in range(len(barang)):\n",
        "      print(barang[i])\n",
        "      \n",
        "  elif perintah == 5:\n",
        "    cari = input(\"masukkan barang yang di cek: \")\n",
        "    for i in range(len(barang)):\n",
        "     if barang [i] == cari:\n",
        "       print(\"barang ada dalam list\")\n",
        "     else:\n",
        "       print(\"barang tidak ditemukan\")\n",
        "\n",
        "  elif perintah == 6:\n",
        "    cari2 = input(\"masukkan barang yang di cari: \")\n",
        "    if cari2 in barang:\n",
        "      print(f\"{cari2} ada pada index ke-{barang.index(cari2)}\")\n",
        "    else:\n",
        "      print(\"index tidak ditemukan\")"
      ]
    }
  ]
}